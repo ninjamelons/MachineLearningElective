{
 "cells": [
  {
   "cell_type": "code",
   "execution_count": 1,
   "metadata": {},
   "outputs": [
    {
     "ename": "OperationalError",
     "evalue": "('08001', '[08001] [Microsoft][ODBC Driver 13 for SQL Server]Named Pipes Provider: Could not open a connection to SQL Server [53].  (53) (SQLDriverConnect); [08001] [Microsoft][ODBC Driver 13 for SQL Server]Login timeout expired (0); [08001] [Microsoft][ODBC Driver 13 for SQL Server]A network-related or instance-specific error has occurred while establishing a connection to SQL Server. Server is not found or not accessible. Check if instance name is correct and if SQL Server is configured to allow remote connections. For more information see SQL Server Books Online. (53)')",
     "output_type": "error",
     "traceback": [
      "\u001b[1;31m---------------------------------------------------------------------------\u001b[0m",
      "\u001b[1;31mOperationalError\u001b[0m                          Traceback (most recent call last)",
      "\u001b[1;32m<ipython-input-1-927347a1193b>\u001b[0m in \u001b[0;36m<module>\u001b[1;34m\u001b[0m\n\u001b[0;32m     17\u001b[0m \u001b[1;32mimport\u001b[0m \u001b[0mpyodbc\u001b[0m\u001b[1;33m\u001b[0m\u001b[1;33m\u001b[0m\u001b[0m\n\u001b[0;32m     18\u001b[0m \u001b[1;33m\u001b[0m\u001b[0m\n\u001b[1;32m---> 19\u001b[1;33m \u001b[0mconn\u001b[0m \u001b[1;33m=\u001b[0m \u001b[0mpyodbc\u001b[0m\u001b[1;33m.\u001b[0m\u001b[0mconnect\u001b[0m\u001b[1;33m(\u001b[0m\u001b[1;34m'DRIVER={ODBC Driver 13 for SQL Server};SERVER=92.43.176.119;DATABASE=Indusoft;UID=UCN-DDD05;PWD=rQdj7KmG8p'\u001b[0m\u001b[1;33m)\u001b[0m\u001b[1;33m\u001b[0m\u001b[1;33m\u001b[0m\u001b[0m\n\u001b[0m\u001b[0;32m     20\u001b[0m \u001b[0msql\u001b[0m \u001b[1;33m=\u001b[0m \u001b[1;34m\"SELECT TOP 100000 [Date], [Indgang 0405], [Indgang 0407] FROM DataCollectionBaand2 WHERE [Indgang 0407] = 1 OR [Indgang 0405] = 1 ORDER BY CONVERT(VARCHAR, [Date]) ASC;\"\u001b[0m\u001b[1;33m\u001b[0m\u001b[1;33m\u001b[0m\u001b[0m\n\u001b[0;32m     21\u001b[0m \u001b[1;33m\u001b[0m\u001b[0m\n",
      "\u001b[1;31mOperationalError\u001b[0m: ('08001', '[08001] [Microsoft][ODBC Driver 13 for SQL Server]Named Pipes Provider: Could not open a connection to SQL Server [53].  (53) (SQLDriverConnect); [08001] [Microsoft][ODBC Driver 13 for SQL Server]Login timeout expired (0); [08001] [Microsoft][ODBC Driver 13 for SQL Server]A network-related or instance-specific error has occurred while establishing a connection to SQL Server. Server is not found or not accessible. Check if instance name is correct and if SQL Server is configured to allow remote connections. For more information see SQL Server Books Online. (53)')"
     ]
    }
   ],
   "source": [
    "# Learn about API authentication here: https://plot.ly/pandas/getting-started\n",
    "# Find your api_key here: https://plot.ly/settings/api\n",
    "import plotly\n",
    "import plotly.plotly as py\n",
    "import plotly.graph_objs as go\n",
    "\n",
    "\n",
    "plotly.tools.set_credentials_file(username='ninjamelons', api_key='M01mLTvqIxmzqeDoXTqW')\n",
    "\n",
    "import pandas as pd\n",
    "#import numpy as np\n",
    "\n",
    "#N = 500\n",
    "#x = np.linspace(0, 1, N)\n",
    "#y = np.random.randn(N)\n",
    "\n",
    "import pyodbc\n",
    "\n",
    "conn = pyodbc.connect('DRIVER={ODBC Driver 13 for SQL Server};SERVER=92.43.176.119;DATABASE=Indusoft;UID=UCN-DDD05;PWD=rQdj7KmG8p')\n",
    "sql = \"SELECT TOP 100000 [Date], [Indgang 0405], [Indgang 0407] FROM DataCollectionBaand2 WHERE [Indgang 0407] = 1 OR [Indgang 0405] = 1 ORDER BY CONVERT(VARCHAR, [Date]) ASC;\"\n",
    "\n",
    "df4745 = pd.read_sql(sql,conn)\n",
    "df4745.columns = ['Date', 'Indgang45', 'Indgang47']\n",
    "df4745.head()"
   ]
  },
  {
   "cell_type": "code",
   "execution_count": 2,
   "metadata": {},
   "outputs": [
    {
     "name": "stdout",
     "output_type": "stream",
     "text": [
      "<class 'pandas.core.frame.DataFrame'>\n",
      "RangeIndex: 100000 entries, 0 to 99999\n",
      "Data columns (total 3 columns):\n",
      "Date         100000 non-null datetime64[ns]\n",
      "Indgang45    100000 non-null int64\n",
      "Indgang47    100000 non-null int64\n",
      "dtypes: datetime64[ns](1), int64(2)\n",
      "memory usage: 2.3 MB\n"
     ]
    }
   ],
   "source": [
    "df4745['Date'] = pd.to_datetime(df4745['Date'])\n",
    "df4745.info()"
   ]
  },
  {
   "cell_type": "code",
   "execution_count": 3,
   "metadata": {},
   "outputs": [],
   "source": [
    "import datetime\n",
    "from datetime import timedelta"
   ]
  },
  {
   "cell_type": "code",
   "execution_count": 4,
   "metadata": {},
   "outputs": [],
   "source": [
    "def getDifference4745(df, retDf) :\n",
    "    #Initialise 0407, 0405 rows and row to be added to new df\n",
    "    row47 = {'Date':'1900-00-00 00:00:00', 'Indgang45': '0', 'Indgang47': '0'}\n",
    "    row45 = {'Date':'1900-00-00 00:00:00', 'Indgang45': '0', 'Indgang47': '0'}\n",
    "    retRow = {'Date':'1900-00-00 00:00:00', 'Indgang45': '0', 'Indgang47': '0'}\n",
    "    ind47 = False\n",
    "    ind45 = False\n",
    "    \n",
    "    #Iterate through input df to get the next 0407 with 1\n",
    "    for row in df.itertuples() :\n",
    "        if row.Indgang47 == 1 :\n",
    "            ind47 = True\n",
    "            row47 = row            \n",
    "            break\n",
    "            \n",
    "    #Iterate through input df to get the next 0405 after 0407 with 1\n",
    "    for row in df.itertuples() :\n",
    "        if row47.Date != '1900-00-00 00:00:00' and row.Indgang45 == 1 and row.Date > row47.Date :\n",
    "            ind45 = True\n",
    "            row45 = row\n",
    "            break\n",
    "            \n",
    "    #Assign values to be added to new df\n",
    "    if hasattr(row45, 'Date') and hasattr(row47, 'Date') :\n",
    "        retRow = row45.Date - row47.Date\n",
    "        days, seconds = retRow.days, retRow.seconds\n",
    "        hours = days * 24 + seconds // 3600\n",
    "        minutes = (seconds % 3600) // 60\n",
    "        seconds = seconds % 60\n",
    "        retRow = timedelta(hours=hours, minutes=minutes, seconds=seconds)\n",
    "    \n",
    "        #Add new row to the final df\n",
    "        retDf = retDf.append({'Date': row47.Date, 'DeltaTime':retRow}, ignore_index=True)\n",
    "    \n",
    "        #Delete rows up until this point from input df\n",
    "        df.drop(df[df.Date < row45.Date].index, inplace=True)\n",
    "        \n",
    "    if len(df.index) > 20 :\n",
    "        return getDifference4745(df,retDf)\n",
    "    else :\n",
    "        return retDf\n",
    "\n",
    "finalDf = pd.DataFrame(columns=['Date', 'DeltaTime'])"
   ]
  },
  {
   "cell_type": "code",
   "execution_count": null,
   "metadata": {},
   "outputs": [],
   "source": [
    "nextDf = getDifference4745(df4745,finalDf)"
   ]
  },
  {
   "cell_type": "code",
   "execution_count": null,
   "metadata": {},
   "outputs": [],
   "source": [
    "nextDf"
   ]
  },
  {
   "cell_type": "code",
   "execution_count": null,
   "metadata": {},
   "outputs": [],
   "source": [
    "import plotly.plotly as py\n",
    "import plotly.graph_objs as go\n",
    "\n",
    "data = [\n",
    "    go.Scatter(\n",
    "        x=nextDf['Date'], # assign x as the dataframe column 'x'\n",
    "        y=nextDf['DeltaTime']\n",
    "    )\n",
    "]\n",
    "\n",
    "layout = go.Layout(\n",
    "    title='Time taken for date',\n",
    "    yaxis=dict(title='Time taken'),\n",
    "    xaxis=dict(title='Date of start')\n",
    ")\n",
    "\n",
    "fig = go.Figure(data=data, layout=layout)\n",
    "\n",
    "# IPython notebook\n",
    "# py.iplot(fig, filename='pandas/line-plot-title')\n",
    "\n",
    "url = py.plot(fig, filename='4745Data')"
   ]
  },
  {
   "cell_type": "code",
   "execution_count": null,
   "metadata": {},
   "outputs": [],
   "source": []
  }
 ],
 "metadata": {
  "kernelspec": {
   "display_name": "Python 3",
   "language": "python",
   "name": "python3"
  },
  "language_info": {
   "codemirror_mode": {
    "name": "ipython",
    "version": 3
   },
   "file_extension": ".py",
   "mimetype": "text/x-python",
   "name": "python",
   "nbconvert_exporter": "python",
   "pygments_lexer": "ipython3",
   "version": "3.7.1"
  }
 },
 "nbformat": 4,
 "nbformat_minor": 2
}
